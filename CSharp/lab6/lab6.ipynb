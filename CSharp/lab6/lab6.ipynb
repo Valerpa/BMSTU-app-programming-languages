{
 "cells": [
  {
   "cell_type": "markdown",
   "id": "a327387c",
   "metadata": {},
   "source": [
    "# <center> Lab 6"
   ]
  },
  {
   "cell_type": "markdown",
   "id": "b8207041",
   "metadata": {},
   "source": [
    "### Import libraries"
   ]
  },
  {
   "cell_type": "code",
   "execution_count": 4,
   "id": "65038848",
   "metadata": {},
   "outputs": [],
   "source": [
    "import pandas as pd\n",
    "import numpy as np\n",
    "import matplotlib.pyplot as plt\n",
    "import os\n",
    "import subprocces"
   ]
  },
  {
   "cell_type": "markdown",
   "id": "3948cb95",
   "metadata": {},
   "source": [
    "### File checking"
   ]
  },
  {
   "cell_type": "code",
   "execution_count": 5,
   "id": "061db9f0",
   "metadata": {},
   "outputs": [],
   "source": [
    "initial_age_path = '/Users/valerikanasha228/Downloads/InitialAge.csv'\n",
    "death_rules_path = '/Users/valerikanasha228/Downloads/DeathRules.csv'\n",
    "def check_file_path(path):\n",
    "    res = True\n",
    "    if not path.endswith('.csv'):\n",
    "        print('ERROR: Wrong file extension (only .csv allowed)!')\n",
    "        res = False\n",
    "    if not os.path.exists(path):\n",
    "        print('ERROR: file not found!')\n",
    "        res = False\n",
    "    else:\n",
    "        if os.path.getsize(path) == 0:\n",
    "            print('ERROR: file is empty!')\n",
    "            res = False\n",
    "    return res\n",
    "            \n",
    "def check_cell_values(data):\n",
    "    res = True\n",
    "    if data.isnull().values.any():\n",
    "        print('ERROR: some cell values are empty!')\n",
    "        res = False\n",
    "    return res\n",
    "is_files_correct = check_file_path(initial_age_path) and check_file_path(death_rules_path)"
   ]
  },
  {
   "cell_type": "markdown",
   "id": "b692eb5c",
   "metadata": {},
   "source": [
    "### Reading data"
   ]
  },
  {
   "cell_type": "code",
   "execution_count": 12,
   "id": "a9dda5fe",
   "metadata": {},
   "outputs": [
    {
     "name": "stdout",
     "output_type": "stream",
     "text": [
      "Age table:\n",
      "    Возраст   Количество_на_1000\n",
      "0        0            16.808284\n",
      "1        2            66.523200\n",
      "2        6            82.845765\n",
      "3       11            82.597483\n",
      "4       16            82.085327\n",
      "\n",
      "Death table:\n",
      "    Начальный_возраст   Конечный_возраст   Вероятность_смерти_муж  \\\n",
      "0                  0                  1                   0.0167   \n",
      "1                  2                  5                   0.0044   \n",
      "2                  6                 10                   0.0030   \n",
      "3                 11                 15                   0.0100   \n",
      "4                 16                 20                   0.0223   \n",
      "\n",
      "    Вероятность_смерти_жен  \n",
      "0                   0.0199  \n",
      "1                   0.0051  \n",
      "2                   0.0029  \n",
      "3                   0.0070  \n",
      "4                   0.0190  \n"
     ]
    }
   ],
   "source": [
    "if not is_files_correct:\n",
    "    print(\"ERROR: data can't be read\")\n",
    "else:\n",
    "    age_data = pd.read_csv(initial_age_path)\n",
    "    death_data = pd.read_csv(death_rules_path)\n",
    "    is_cell_values_correct = check_cell_values(age_data) and check_cell_values(death_data)\n",
    "    print(\"Age table:\\n\", age_data.head(), end='\\n\\n')\n",
    "    print(\"Death table:\\n\", death_data.head())"
   ]
  },
  {
   "cell_type": "code",
   "execution_count": null,
   "id": "4d049b4f",
   "metadata": {},
   "outputs": [],
   "source": []
  }
 ],
 "metadata": {
  "kernelspec": {
   "display_name": "Python 3 (ipykernel)",
   "language": "python",
   "name": "python3"
  },
  "language_info": {
   "codemirror_mode": {
    "name": "ipython",
    "version": 3
   },
   "file_extension": ".py",
   "mimetype": "text/x-python",
   "name": "python",
   "nbconvert_exporter": "python",
   "pygments_lexer": "ipython3",
   "version": "3.11.4"
  }
 },
 "nbformat": 4,
 "nbformat_minor": 5
}
