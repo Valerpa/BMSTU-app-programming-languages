{
 "cells": [
  {
   "cell_type": "markdown",
   "id": "05a7bcfb",
   "metadata": {},
   "source": [
    "# <center> Lab 4"
   ]
  },
  {
   "cell_type": "markdown",
   "id": "9bb4a670",
   "metadata": {},
   "source": [
    "### Import libraries"
   ]
  },
  {
   "cell_type": "code",
   "execution_count": 2,
   "id": "74054219",
   "metadata": {},
   "outputs": [],
   "source": [
    "import numpy as np\n",
    "import matplotlib.pyplot as plt\n",
    "import pandas as pd\n",
    "import os\n",
    "from sklearn import datasets\n",
    "from sklearn.model_selection import train_test_split\n",
    "from sklearn.linear_model import LinearRegression"
   ]
  },
  {
   "cell_type": "markdown",
   "id": "3360b2af",
   "metadata": {},
   "source": [
    "### File checking"
   ]
  },
  {
   "cell_type": "code",
   "execution_count": 3,
   "id": "1cf49523",
   "metadata": {},
   "outputs": [],
   "source": [
    "path = '/Users/valerikanasha228/Downloads/gdp_csv.csv'\n",
    "def check_file_path(path):\n",
    "    res = True\n",
    "    if not path.endswith('.csv'):\n",
    "        print('ERROR: Wrong file extension (only .csv allowed)!')\n",
    "        res = False\n",
    "    if not os.path.exists(path):\n",
    "        print('ERROR: file not found!')\n",
    "        res = False\n",
    "    else:\n",
    "        if os.path.getsize(path) == 0:\n",
    "            print('ERROR: file is empty!')\n",
    "            res = False\n",
    "    return res\n",
    "            \n",
    "def check_cell_values(data):\n",
    "    res = True\n",
    "    if data.isnull().values.any():\n",
    "        print('ERROR: some cell values are empty!')\n",
    "        res = False\n",
    "    return res\n",
    "is_file_correct = check_file_path(path)"
   ]
  },
  {
   "cell_type": "markdown",
   "id": "06d3199a",
   "metadata": {},
   "source": [
    "### Input checking"
   ]
  },
  {
   "cell_type": "code",
   "execution_count": 4,
   "id": "ede403b0",
   "metadata": {},
   "outputs": [],
   "source": [
    "def check_year(year, ):\n",
    "    res = True\n",
    "    if not year.isdigit():\n",
    "        res = False\n",
    "    return res\n"
   ]
  },
  {
   "cell_type": "markdown",
   "id": "9896f35d",
   "metadata": {},
   "source": [
    "### Loading dataset"
   ]
  },
  {
   "cell_type": "code",
   "execution_count": 5,
   "id": "3079e83d",
   "metadata": {
    "scrolled": true
   },
   "outputs": [
    {
     "name": "stdout",
     "output_type": "stream",
     "text": [
      "  Country Name Country Code  Year         Value\n",
      "0   Arab World          ARB  1968  2.576068e+10\n",
      "1   Arab World          ARB  1969  2.843420e+10\n",
      "2   Arab World          ARB  1970  3.138550e+10\n",
      "3   Arab World          ARB  1971  3.642691e+10\n",
      "4   Arab World          ARB  1972  4.331606e+10\n"
     ]
    }
   ],
   "source": [
    "if not is_file_correct:\n",
    "    print(\"ERROR: dataset can't be read\")\n",
    "else:\n",
    "    data = pd.read_csv(path)\n",
    "    is_cell_values_correct = check_cell_values(data)\n",
    "    print(data.head())"
   ]
  },
  {
   "cell_type": "markdown",
   "id": "ca9a97ac",
   "metadata": {},
   "source": [
    "## Linear Regression"
   ]
  },
  {
   "cell_type": "code",
   "execution_count": 16,
   "id": "371ea451",
   "metadata": {
    "scrolled": false
   },
   "outputs": [
    {
     "name": "stdout",
     "output_type": "stream",
     "text": [
      "Enter year to predict GDP: 2021\n",
      "Enter country code: ARB\n"
     ]
    },
    {
     "data": {
      "image/png": "[encoded data removed]",
      "text/plain": [
       "<Figure size 1000x600 with 1 Axes>"
      ]
     },
     "metadata": {},
     "output_type": "display_data"
    },
    {
     "name": "stdout",
     "output_type": "stream",
     "text": [
      "GDP prediction for 2021 in ARB: 2397832849195.953\n"
     ]
    }
   ],
   "source": [
    "if not is_file_correct or not is_cell_values_correct:\n",
    "    print(\"ERROR: linear regression can't be made\")\n",
    "else:\n",
    "    year = input('Enter year to predict GDP: ')\n",
    "    country_code = input('Enter country code: ')\n",
    "    if not check_year(year):\n",
    "        print(\"ERROR: year must be an integer!\")\n",
    "    if country_code not in data['Country Code'].values:\n",
    "        print(\"ERROR: no such country code in file\")\n",
    "    else:\n",
    "        year = int(year)\n",
    "        filtered_data = data[data['Country Code'] == country_code]\n",
    "        X = filtered_data[['Year']]\n",
    "        y = filtered_data['Value']\n",
    "        X_train, X_test, y_train, y_test = train_test_split(X, y, test_size=0.2)\n",
    "        model = LinearRegression()\n",
    "        model.fit(X_train, y_train)\n",
    "        input_data = pd.DataFrame({'Year': [year]})\n",
    "        predicted_gdp = model.predict(input_data)\n",
    "        plt.figure(figsize=(10, 6))\n",
    "        plt.scatter(X_test, y_test)\n",
    "        plt.scatter(year, predicted_gdp, color='black')\n",
    "        plt.plot(X_test, model.predict(X_test), color='red', linewidth=2)\n",
    "        plt.xlabel('Year')\n",
    "        plt.ylabel('GDP')\n",
    "        plt.title('GDP prediction by year')\n",
    "        plt.show()\n",
    "        print(f'GDP prediction for {year} in {country_code}: {predicted_gdp[0]}')"
   ]
  },
  {
   "cell_type": "code",
   "execution_count": null,
   "id": "3b6e399f",
   "metadata": {},
   "outputs": [],
   "source": []
  },
  {
   "cell_type": "code",
   "execution_count": null,
   "id": "a5c51d54",
   "metadata": {},
   "outputs": [],
   "source": []
  }
 ],
 "metadata": {
  "kernelspec": {
   "display_name": "Python 3 (ipykernel)",
   "language": "python",
   "name": "python3"
  },
  "language_info": {
   "codemirror_mode": {
    "name": "ipython",
    "version": 3
   },
   "file_extension": ".py",
   "mimetype": "text/x-python",
   "name": "python",
   "nbconvert_exporter": "python",
   "pygments_lexer": "ipython3",
   "version": "3.11.4"
  }
 },
 "nbformat": 4,
 "nbformat_minor": 5
}
